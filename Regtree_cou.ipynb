{
 "cells": [
  {
   "cell_type": "code",
   "execution_count": 1,
   "metadata": {},
   "outputs": [],
   "source": [
    "import pandas as pd\n",
    "import numpy as np\n",
    "import matplotlib.pyplot as plt\n",
    "from sklearn import datasets\n",
    "from sklearn.model_selection import train_test_split\n",
    "from sklearn.tree import DecisionTreeRegressor\n",
    "from sklearn import tree\n",
    "from sklearn import metrics\n",
    "from sklearn.model_selection import cross_val_predict\n",
    "import seaborn as sb\n",
    "from sklearn.preprocessing import OneHotEncoder\n",
    "from sklearn.compose import make_column_transformer\n",
    "from sklearn.ensemble import RandomForestClassifier\n",
    "\n",
    "#import graphviz\n",
    "\n",
    "\n"
   ]
  },
  {
   "cell_type": "code",
   "execution_count": 2,
   "metadata": {},
   "outputs": [
    {
     "name": "stdout",
     "output_type": "stream",
     "text": [
      "Collecting category_encoders\n",
      "  Downloading category_encoders-2.4.1-py2.py3-none-any.whl (80 kB)\n",
      "Requirement already satisfied: scipy>=1.0.0 in d:\\programas\\python\\lib\\site-packages (from category_encoders) (1.8.0)\n",
      "Requirement already satisfied: pandas>=0.21.1 in d:\\programas\\python\\lib\\site-packages (from category_encoders) (1.4.1)\n",
      "Collecting patsy>=0.5.1\n",
      "  Downloading patsy-0.5.2-py2.py3-none-any.whl (233 kB)\n",
      "Collecting statsmodels>=0.9.0\n",
      "  Downloading statsmodels-0.13.2-cp39-cp39-win_amd64.whl (9.1 MB)\n",
      "Requirement already satisfied: numpy>=1.14.0 in d:\\programas\\python\\lib\\site-packages (from category_encoders) (1.20.3)\n",
      "Requirement already satisfied: scikit-learn>=0.20.0 in d:\\programas\\python\\lib\\site-packages (from category_encoders) (0.24.2)\n",
      "Requirement already satisfied: python-dateutil>=2.8.1 in d:\\programas\\python\\lib\\site-packages (from pandas>=0.21.1->category_encoders) (2.8.1)\n",
      "Requirement already satisfied: pytz>=2020.1 in d:\\programas\\python\\lib\\site-packages (from pandas>=0.21.1->category_encoders) (2021.1)\n",
      "Requirement already satisfied: six in d:\\programas\\python\\lib\\site-packages (from patsy>=0.5.1->category_encoders) (1.15.0)\n",
      "Collecting packaging>=21.3\n",
      "  Downloading packaging-21.3-py3-none-any.whl (40 kB)\n",
      "Requirement already satisfied: joblib>=0.11 in d:\\programas\\python\\lib\\site-packages (from scikit-learn>=0.20.0->category_encoders) (1.1.0)\n",
      "Requirement already satisfied: threadpoolctl>=2.0.0 in d:\\programas\\python\\lib\\site-packages (from scikit-learn>=0.20.0->category_encoders) (3.1.0)\n",
      "Requirement already satisfied: pyparsing!=3.0.5,>=2.0.2 in d:\\programas\\python\\lib\\site-packages (from packaging>=21.3->statsmodels>=0.9.0->category_encoders) (2.4.7)\n",
      "Installing collected packages: patsy, packaging, statsmodels, category-encoders\n",
      "  Attempting uninstall: packaging\n",
      "    Found existing installation: packaging 21.0\n",
      "    Uninstalling packaging-21.0:\n",
      "      Successfully uninstalled packaging-21.0\n",
      "Successfully installed category-encoders-2.4.1 packaging-21.3 patsy-0.5.2 statsmodels-0.13.2\n"
     ]
    },
    {
     "name": "stderr",
     "output_type": "stream",
     "text": [
      "WARNING: You are using pip version 20.2.3; however, version 22.1.1 is available.\n",
      "You should consider upgrading via the 'd:\\programas\\python\\python.exe -m pip install --upgrade pip' command.\n"
     ]
    }
   ],
   "source": [
    "!pip install category_encoders"
   ]
  },
  {
   "cell_type": "code",
   "execution_count": 3,
   "metadata": {},
   "outputs": [],
   "source": [
    "import category_encoders as ce"
   ]
  },
  {
   "cell_type": "code",
   "execution_count": 5,
   "metadata": {},
   "outputs": [
    {
     "name": "stderr",
     "output_type": "stream",
     "text": [
      "C:\\Users\\andre\\AppData\\Local\\Temp\\ipykernel_34600\\1218345657.py:10: FutureWarning: The frame.append method is deprecated and will be removed from pandas in a future version. Use pandas.concat instead.\n",
      "  df = df2013.append([df2014, df2015, df2016,\n"
     ]
    }
   ],
   "source": [
    "df2013 =pd.read_spss('defunciones/2013-defunciones.sav')\n",
    "df2014 =pd.read_spss('defunciones/2014-defunciones.sav')\n",
    "df2015 =pd.read_spss('defunciones/2015-defunciones.sav')\n",
    "df2016 =pd.read_spss('defunciones/2016-defunciones.sav')\n",
    "df2017 =pd.read_spss('defunciones/2017-defunciones.sav')\n",
    "df2018 =pd.read_spss('defunciones/2018-defunciones.sav')\n",
    "df2019 =pd.read_spss('defunciones/2019-defunciones.sav')\n",
    "df2020 =pd.read_spss('defunciones/2020-defunciones.sav')\n",
    "\n",
    "df = df2013.append([df2014, df2015, df2016, \n",
    "                    df2017, df2018, df2019, \n",
    "                    df2020 ])\n"
   ]
  },
  {
   "cell_type": "markdown",
   "metadata": {},
   "source": []
  },
  {
   "cell_type": "code",
   "execution_count": 6,
   "metadata": {},
   "outputs": [
    {
     "name": "stdout",
     "output_type": "stream",
     "text": [
      "['Depocu' 'Mesocu' 'Edadif' 'Ecidif' 'Escodif' 'Asist' 'Ocur' 'Ciuodif']\n"
     ]
    }
   ],
   "source": [
    "#selección de variables\n",
    "df = df[['Depocu', 'Mesocu', 'Edadif', 'Ecidif', 'Escodif', 'Asist', 'Ocur', 'Ciuodif']]\n",
    "print(df.columns.values)"
   ]
  },
  {
   "cell_type": "code",
   "execution_count": 7,
   "metadata": {},
   "outputs": [
    {
     "name": "stdout",
     "output_type": "stream",
     "text": [
      "['Depocu' 'Mesocu' 'Edadif' 'Ecidif' 'Escodif' 'Asist' 'Ocur' 'Ciuodif']\n"
     ]
    }
   ],
   "source": [
    "df.drop(df[df['Edadif'] == 'Ignorado'].index, inplace = True)\n",
    "\n",
    "df.drop(df[df['Edadif'] < 15].index, inplace = True)\n",
    "\n",
    "df.drop(df[df['Escodif'] == 'Ignorado'].index, inplace = True)\n",
    "df.drop(df[df['Asist'] == 'Ignorado'].index, inplace = True)\n",
    "df.drop(df[df['Ciuodif'] == 'Ignorado'].index, inplace = True)\n",
    "\n",
    "pd.to_numeric(df['Edadif'])\n",
    "\n",
    "print(df.columns.values)"
   ]
  },
  {
   "cell_type": "code",
   "execution_count": 8,
   "metadata": {},
   "outputs": [],
   "source": [
    "encoder = ce.OneHotEncoder(use_cat_names=True)"
   ]
  },
  {
   "cell_type": "code",
   "execution_count": 9,
   "metadata": {},
   "outputs": [],
   "source": [
    "X = df[['Depocu', 'Mesocu', 'Ecidif', 'Escodif', 'Asist', 'Ocur', 'Ciuodif']]\n",
    "y = df.pop('Edadif')\n",
    "y=y.astype('int')\n",
    "\n"
   ]
  },
  {
   "cell_type": "code",
   "execution_count": 10,
   "metadata": {},
   "outputs": [
    {
     "name": "stdout",
     "output_type": "stream",
     "text": [
      "9536      36\n",
      "9538      16\n",
      "9539      29\n",
      "9542      65\n",
      "9543      41\n",
      "        ... \n",
      "95654    107\n",
      "95655    107\n",
      "95656    107\n",
      "95657    107\n",
      "95658    108\n",
      "Name: Edadif, Length: 115728, dtype: int32\n"
     ]
    }
   ],
   "source": [
    "print(y)"
   ]
  },
  {
   "cell_type": "code",
   "execution_count": 11,
   "metadata": {},
   "outputs": [],
   "source": [
    "X_train, X_test, y_train, y_test = train_test_split(X, y, test_size=0.3, train_size=0.7,  random_state=42)"
   ]
  },
  {
   "cell_type": "code",
   "execution_count": 12,
   "metadata": {},
   "outputs": [
    {
     "data": {
      "text/html": [
       "<div>\n",
       "<style scoped>\n",
       "    .dataframe tbody tr th:only-of-type {\n",
       "        vertical-align: middle;\n",
       "    }\n",
       "\n",
       "    .dataframe tbody tr th {\n",
       "        vertical-align: top;\n",
       "    }\n",
       "\n",
       "    .dataframe thead th {\n",
       "        text-align: right;\n",
       "    }\n",
       "</style>\n",
       "<table border=\"1\" class=\"dataframe\">\n",
       "  <thead>\n",
       "    <tr style=\"text-align: right;\">\n",
       "      <th></th>\n",
       "      <th>Depocu</th>\n",
       "      <th>Mesocu</th>\n",
       "      <th>Ecidif</th>\n",
       "      <th>Escodif</th>\n",
       "      <th>Asist</th>\n",
       "      <th>Ocur</th>\n",
       "      <th>Ciuodif</th>\n",
       "    </tr>\n",
       "  </thead>\n",
       "  <tbody>\n",
       "    <tr>\n",
       "      <th>41608</th>\n",
       "      <td>Alta Verapaz</td>\n",
       "      <td>Julio</td>\n",
       "      <td>Soltero(a)</td>\n",
       "      <td>Ninguna</td>\n",
       "      <td>Médica</td>\n",
       "      <td>Hospital público</td>\n",
       "      <td>No especificado en otro grupo</td>\n",
       "    </tr>\n",
       "    <tr>\n",
       "      <th>90290</th>\n",
       "      <td>Jutiapa</td>\n",
       "      <td>Junio</td>\n",
       "      <td>Casado(a)</td>\n",
       "      <td>Ninguna</td>\n",
       "      <td>Médica</td>\n",
       "      <td>Domicilio</td>\n",
       "      <td>Peones agropecuarios, pesqueros y forestales</td>\n",
       "    </tr>\n",
       "    <tr>\n",
       "      <th>28214</th>\n",
       "      <td>Guatemala</td>\n",
       "      <td>Enero</td>\n",
       "      <td>Casado(a)</td>\n",
       "      <td>Ninguna</td>\n",
       "      <td>Médica</td>\n",
       "      <td>Hospital público</td>\n",
       "      <td>No especificado en otro grupo</td>\n",
       "    </tr>\n",
       "    <tr>\n",
       "      <th>25792</th>\n",
       "      <td>Guatemala</td>\n",
       "      <td>Junio</td>\n",
       "      <td>Soltero</td>\n",
       "      <td>Primaria</td>\n",
       "      <td>Médica</td>\n",
       "      <td>Hospital público</td>\n",
       "      <td>Conductores de vehículos y operadores de equip...</td>\n",
       "    </tr>\n",
       "    <tr>\n",
       "      <th>37531</th>\n",
       "      <td>Guatemala</td>\n",
       "      <td>Diciembre</td>\n",
       "      <td>Casado(a)</td>\n",
       "      <td>Primaria</td>\n",
       "      <td>Médica</td>\n",
       "      <td>Hospital privado</td>\n",
       "      <td>Peones agropecuarios, pesqueros y forestales</td>\n",
       "    </tr>\n",
       "  </tbody>\n",
       "</table>\n",
       "</div>"
      ],
      "text/plain": [
       "             Depocu     Mesocu      Ecidif   Escodif   Asist  \\\n",
       "41608  Alta Verapaz      Julio  Soltero(a)   Ninguna  Médica   \n",
       "90290       Jutiapa      Junio   Casado(a)   Ninguna  Médica   \n",
       "28214     Guatemala      Enero   Casado(a)   Ninguna  Médica   \n",
       "25792     Guatemala      Junio     Soltero  Primaria  Médica   \n",
       "37531     Guatemala  Diciembre   Casado(a)  Primaria  Médica   \n",
       "\n",
       "                   Ocur                                            Ciuodif  \n",
       "41608  Hospital público                      No especificado en otro grupo  \n",
       "90290         Domicilio       Peones agropecuarios, pesqueros y forestales  \n",
       "28214  Hospital público                      No especificado en otro grupo  \n",
       "25792  Hospital público  Conductores de vehículos y operadores de equip...  \n",
       "37531  Hospital privado       Peones agropecuarios, pesqueros y forestales  "
      ]
     },
     "execution_count": 12,
     "metadata": {},
     "output_type": "execute_result"
    }
   ],
   "source": [
    "X_train.head()"
   ]
  },
  {
   "cell_type": "code",
   "execution_count": 13,
   "metadata": {},
   "outputs": [],
   "source": [
    "X_train2 = encoder.fit_transform(X_train)"
   ]
  },
  {
   "cell_type": "code",
   "execution_count": 14,
   "metadata": {},
   "outputs": [],
   "source": [
    "X_test2 = encoder.transform(X_test)"
   ]
  },
  {
   "cell_type": "code",
   "execution_count": 54,
   "metadata": {},
   "outputs": [
    {
     "data": {
      "text/html": [
       "<div>\n",
       "<style scoped>\n",
       "    .dataframe tbody tr th:only-of-type {\n",
       "        vertical-align: middle;\n",
       "    }\n",
       "\n",
       "    .dataframe tbody tr th {\n",
       "        vertical-align: top;\n",
       "    }\n",
       "\n",
       "    .dataframe thead th {\n",
       "        text-align: right;\n",
       "    }\n",
       "</style>\n",
       "<table border=\"1\" class=\"dataframe\">\n",
       "  <thead>\n",
       "    <tr style=\"text-align: right;\">\n",
       "      <th></th>\n",
       "      <th>Depocu_Alta Verapaz</th>\n",
       "      <th>Depocu_Jutiapa</th>\n",
       "      <th>Depocu_Guatemala</th>\n",
       "      <th>Depocu_Chiquimula</th>\n",
       "      <th>Depocu_Jalapa</th>\n",
       "      <th>Depocu_Quetzaltenango</th>\n",
       "      <th>Depocu_Baja Verapaz</th>\n",
       "      <th>Depocu_Suchitepequez</th>\n",
       "      <th>Depocu_Zacapa</th>\n",
       "      <th>Depocu_Escuintla</th>\n",
       "      <th>...</th>\n",
       "      <th>Ciuodif_Empleados en trato directo con el público</th>\n",
       "      <th>Ciuodif_Trabajadores de los cuidados personales</th>\n",
       "      <th>Ciuodif_Vendedores ambulantes de servicios y afines</th>\n",
       "      <th>Ciuodif_Trabajadores forestales calificados, pescadores y cazadores</th>\n",
       "      <th>Ciuodif_Ensambladores</th>\n",
       "      <th>Ciuodif_Profesionales de tecnología de la información y las comunicaciones</th>\n",
       "      <th>Ciuodif_Oficiales de las fuerzas armadas</th>\n",
       "      <th>Ciuodif_Gerentes de hoteles, restaurantes, comercios y otros servicios</th>\n",
       "      <th>Ciuodif_Ayudantes de preparación de alimentos</th>\n",
       "      <th>Ciuodif_Directores y gerentes de producción y operaciones</th>\n",
       "    </tr>\n",
       "  </thead>\n",
       "  <tbody>\n",
       "    <tr>\n",
       "      <th>41608</th>\n",
       "      <td>1</td>\n",
       "      <td>0</td>\n",
       "      <td>0</td>\n",
       "      <td>0</td>\n",
       "      <td>0</td>\n",
       "      <td>0</td>\n",
       "      <td>0</td>\n",
       "      <td>0</td>\n",
       "      <td>0</td>\n",
       "      <td>0</td>\n",
       "      <td>...</td>\n",
       "      <td>0</td>\n",
       "      <td>0</td>\n",
       "      <td>0</td>\n",
       "      <td>0</td>\n",
       "      <td>0</td>\n",
       "      <td>0</td>\n",
       "      <td>0</td>\n",
       "      <td>0</td>\n",
       "      <td>0</td>\n",
       "      <td>0</td>\n",
       "    </tr>\n",
       "    <tr>\n",
       "      <th>90290</th>\n",
       "      <td>0</td>\n",
       "      <td>1</td>\n",
       "      <td>0</td>\n",
       "      <td>0</td>\n",
       "      <td>0</td>\n",
       "      <td>0</td>\n",
       "      <td>0</td>\n",
       "      <td>0</td>\n",
       "      <td>0</td>\n",
       "      <td>0</td>\n",
       "      <td>...</td>\n",
       "      <td>0</td>\n",
       "      <td>0</td>\n",
       "      <td>0</td>\n",
       "      <td>0</td>\n",
       "      <td>0</td>\n",
       "      <td>0</td>\n",
       "      <td>0</td>\n",
       "      <td>0</td>\n",
       "      <td>0</td>\n",
       "      <td>0</td>\n",
       "    </tr>\n",
       "    <tr>\n",
       "      <th>28214</th>\n",
       "      <td>0</td>\n",
       "      <td>0</td>\n",
       "      <td>1</td>\n",
       "      <td>0</td>\n",
       "      <td>0</td>\n",
       "      <td>0</td>\n",
       "      <td>0</td>\n",
       "      <td>0</td>\n",
       "      <td>0</td>\n",
       "      <td>0</td>\n",
       "      <td>...</td>\n",
       "      <td>0</td>\n",
       "      <td>0</td>\n",
       "      <td>0</td>\n",
       "      <td>0</td>\n",
       "      <td>0</td>\n",
       "      <td>0</td>\n",
       "      <td>0</td>\n",
       "      <td>0</td>\n",
       "      <td>0</td>\n",
       "      <td>0</td>\n",
       "    </tr>\n",
       "    <tr>\n",
       "      <th>25792</th>\n",
       "      <td>0</td>\n",
       "      <td>0</td>\n",
       "      <td>1</td>\n",
       "      <td>0</td>\n",
       "      <td>0</td>\n",
       "      <td>0</td>\n",
       "      <td>0</td>\n",
       "      <td>0</td>\n",
       "      <td>0</td>\n",
       "      <td>0</td>\n",
       "      <td>...</td>\n",
       "      <td>0</td>\n",
       "      <td>0</td>\n",
       "      <td>0</td>\n",
       "      <td>0</td>\n",
       "      <td>0</td>\n",
       "      <td>0</td>\n",
       "      <td>0</td>\n",
       "      <td>0</td>\n",
       "      <td>0</td>\n",
       "      <td>0</td>\n",
       "    </tr>\n",
       "    <tr>\n",
       "      <th>37531</th>\n",
       "      <td>0</td>\n",
       "      <td>0</td>\n",
       "      <td>1</td>\n",
       "      <td>0</td>\n",
       "      <td>0</td>\n",
       "      <td>0</td>\n",
       "      <td>0</td>\n",
       "      <td>0</td>\n",
       "      <td>0</td>\n",
       "      <td>0</td>\n",
       "      <td>...</td>\n",
       "      <td>0</td>\n",
       "      <td>0</td>\n",
       "      <td>0</td>\n",
       "      <td>0</td>\n",
       "      <td>0</td>\n",
       "      <td>0</td>\n",
       "      <td>0</td>\n",
       "      <td>0</td>\n",
       "      <td>0</td>\n",
       "      <td>0</td>\n",
       "    </tr>\n",
       "  </tbody>\n",
       "</table>\n",
       "<p>5 rows × 108 columns</p>\n",
       "</div>"
      ],
      "text/plain": [
       "       Depocu_Alta Verapaz  Depocu_Jutiapa  Depocu_Guatemala  \\\n",
       "41608                    1               0                 0   \n",
       "90290                    0               1                 0   \n",
       "28214                    0               0                 1   \n",
       "25792                    0               0                 1   \n",
       "37531                    0               0                 1   \n",
       "\n",
       "       Depocu_Chiquimula  Depocu_Jalapa  Depocu_Quetzaltenango  \\\n",
       "41608                  0              0                      0   \n",
       "90290                  0              0                      0   \n",
       "28214                  0              0                      0   \n",
       "25792                  0              0                      0   \n",
       "37531                  0              0                      0   \n",
       "\n",
       "       Depocu_Baja Verapaz  Depocu_Suchitepequez  Depocu_Zacapa  \\\n",
       "41608                    0                     0              0   \n",
       "90290                    0                     0              0   \n",
       "28214                    0                     0              0   \n",
       "25792                    0                     0              0   \n",
       "37531                    0                     0              0   \n",
       "\n",
       "       Depocu_Escuintla  ...  \\\n",
       "41608                 0  ...   \n",
       "90290                 0  ...   \n",
       "28214                 0  ...   \n",
       "25792                 0  ...   \n",
       "37531                 0  ...   \n",
       "\n",
       "       Ciuodif_Empleados en trato directo con el público  \\\n",
       "41608                                                  0   \n",
       "90290                                                  0   \n",
       "28214                                                  0   \n",
       "25792                                                  0   \n",
       "37531                                                  0   \n",
       "\n",
       "       Ciuodif_Trabajadores de los cuidados personales  \\\n",
       "41608                                                0   \n",
       "90290                                                0   \n",
       "28214                                                0   \n",
       "25792                                                0   \n",
       "37531                                                0   \n",
       "\n",
       "       Ciuodif_Vendedores ambulantes de servicios y afines  \\\n",
       "41608                                                  0     \n",
       "90290                                                  0     \n",
       "28214                                                  0     \n",
       "25792                                                  0     \n",
       "37531                                                  0     \n",
       "\n",
       "       Ciuodif_Trabajadores forestales calificados, pescadores y cazadores  \\\n",
       "41608                                                  0                     \n",
       "90290                                                  0                     \n",
       "28214                                                  0                     \n",
       "25792                                                  0                     \n",
       "37531                                                  0                     \n",
       "\n",
       "       Ciuodif_Ensambladores  \\\n",
       "41608                      0   \n",
       "90290                      0   \n",
       "28214                      0   \n",
       "25792                      0   \n",
       "37531                      0   \n",
       "\n",
       "       Ciuodif_Profesionales de tecnología de la información y las comunicaciones  \\\n",
       "41608                                                  0                            \n",
       "90290                                                  0                            \n",
       "28214                                                  0                            \n",
       "25792                                                  0                            \n",
       "37531                                                  0                            \n",
       "\n",
       "       Ciuodif_Oficiales de las fuerzas armadas  \\\n",
       "41608                                         0   \n",
       "90290                                         0   \n",
       "28214                                         0   \n",
       "25792                                         0   \n",
       "37531                                         0   \n",
       "\n",
       "       Ciuodif_Gerentes de hoteles, restaurantes, comercios y otros servicios  \\\n",
       "41608                                                  0                        \n",
       "90290                                                  0                        \n",
       "28214                                                  0                        \n",
       "25792                                                  0                        \n",
       "37531                                                  0                        \n",
       "\n",
       "       Ciuodif_Ayudantes de preparación de alimentos  \\\n",
       "41608                                              0   \n",
       "90290                                              0   \n",
       "28214                                              0   \n",
       "25792                                              0   \n",
       "37531                                              0   \n",
       "\n",
       "       Ciuodif_Directores y gerentes de producción y operaciones  \n",
       "41608                                                  0          \n",
       "90290                                                  0          \n",
       "28214                                                  0          \n",
       "25792                                                  0          \n",
       "37531                                                  0          \n",
       "\n",
       "[5 rows x 108 columns]"
      ]
     },
     "execution_count": 54,
     "metadata": {},
     "output_type": "execute_result"
    }
   ],
   "source": [
    "X_train2.head()"
   ]
  },
  {
   "cell_type": "code",
   "execution_count": 15,
   "metadata": {},
   "outputs": [
    {
     "name": "stdout",
     "output_type": "stream",
     "text": [
      "   max_depth  train_acc  test_acc\n",
      "0          1   0.113224  0.116994\n",
      "1          2   0.173016  0.176524\n",
      "2          3   0.223055  0.222914\n",
      "3          4   0.251283  0.250207\n",
      "4          5   0.269024  0.265980\n"
     ]
    }
   ],
   "source": [
    "#tree depth\n",
    "\n",
    "train_accuracy = []\n",
    "test_accuracy = []\n",
    "\n",
    "for depth in range(1, 10):\n",
    "            dt = tree.DecisionTreeRegressor(max_depth=depth, random_state=10)\n",
    "            dt.fit(X_train2, y_train)\n",
    "            \n",
    "            train_accuracy.append(dt.score(X_train2, y_train))\n",
    "            test_accuracy.append(dt.score(X_test2, y_test))\n",
    "            \n",
    "frame = pd.DataFrame({'max_depth':range(1, 10), 'train_acc':train_accuracy, 'test_acc':test_accuracy})\n",
    "print(frame.head())"
   ]
  },
  {
   "cell_type": "code",
   "execution_count": 16,
   "metadata": {},
   "outputs": [
    {
     "name": "stderr",
     "output_type": "stream",
     "text": [
      "No handles with labels found to put in legend.\n"
     ]
    },
    {
     "data": {
      "image/png": "[encoded data removed]",
      "text/plain": [
       "<Figure size 864x432 with 1 Axes>"
      ]
     },
     "metadata": {
      "needs_background": "light"
     },
     "output_type": "display_data"
    }
   ],
   "source": [
    "plt.figure(figsize=(12, 6))\n",
    "plt.plot(frame['max_depth'], frame['train_acc'], marker='o')\n",
    "plt.plot(frame['max_depth'], frame['test_acc'], marker='o')\n",
    "plt.xlabel('Depth of tree')\n",
    "plt.ylabel('Performance')\n",
    "plt.legend()\n",
    "plt.show()"
   ]
  },
  {
   "cell_type": "code",
   "execution_count": 17,
   "metadata": {},
   "outputs": [],
   "source": [
    "from sklearn.tree import DecisionTreeRegressor"
   ]
  },
  {
   "cell_type": "code",
   "execution_count": 18,
   "metadata": {},
   "outputs": [],
   "source": [
    "rt = DecisionTreeRegressor(max_depth=5, random_state=10)"
   ]
  },
  {
   "cell_type": "code",
   "execution_count": 19,
   "metadata": {},
   "outputs": [
    {
     "data": {
      "text/plain": [
       "DecisionTreeRegressor(max_depth=5, random_state=10)"
      ]
     },
     "execution_count": 19,
     "metadata": {},
     "output_type": "execute_result"
    }
   ],
   "source": [
    "rt.fit(X_train2, y_train)"
   ]
  },
  {
   "cell_type": "code",
   "execution_count": 20,
   "metadata": {},
   "outputs": [],
   "source": [
    "column_names = ['Depocu', 'Mesocu', 'Ecidif', 'Escodif', 'Asist', 'Ocur', 'Ciuodif']"
   ]
  },
  {
   "cell_type": "code",
   "execution_count": 21,
   "metadata": {},
   "outputs": [],
   "source": [
    "tree.export_graphviz(rt, out_file='regression_tree.dot', class_names=True, max_depth=3)"
   ]
  },
  {
   "cell_type": "code",
   "execution_count": 22,
   "metadata": {},
   "outputs": [
    {
     "name": "stderr",
     "output_type": "stream",
     "text": [
      "\"dot\" no se reconoce como un comando interno o externo,\n",
      "programa o archivo por lotes ejecutable.\n"
     ]
    }
   ],
   "source": [
    "!dot -Tpng regression_tree.dot -o tree.png"
   ]
  },
  {
   "cell_type": "code",
   "execution_count": 23,
   "metadata": {},
   "outputs": [],
   "source": [
    "y_pred_rt = rt.predict(X_test2)"
   ]
  },
  {
   "cell_type": "code",
   "execution_count": 24,
   "metadata": {},
   "outputs": [
    {
     "data": {
      "text/plain": [
       "array([78.63070888, 62.49068142, 73.90136471, 56.90864702, 73.90136471])"
      ]
     },
     "execution_count": 24,
     "metadata": {},
     "output_type": "execute_result"
    }
   ],
   "source": [
    "y_pred_rt[:5]"
   ]
  },
  {
   "cell_type": "code",
   "execution_count": 25,
   "metadata": {},
   "outputs": [],
   "source": [
    "#metricas\n",
    "\n",
    "from sklearn.metrics import mean_absolute_error, r2_score"
   ]
  },
  {
   "cell_type": "code",
   "execution_count": 26,
   "metadata": {},
   "outputs": [
    {
     "data": {
      "text/plain": [
       "14.844117818814977"
      ]
     },
     "execution_count": 26,
     "metadata": {},
     "output_type": "execute_result"
    }
   ],
   "source": [
    "meanAbs = mean_absolute_error(y_test, y_pred_rt)\n",
    "meanAbs\n"
   ]
  },
  {
   "cell_type": "code",
   "execution_count": 27,
   "metadata": {},
   "outputs": [
    {
     "data": {
      "text/plain": [
       "0.26598038488977915"
      ]
     },
     "execution_count": 27,
     "metadata": {},
     "output_type": "execute_result"
    }
   ],
   "source": [
    "r2 = r2_score(y_test, y_pred_rt)\n",
    "r2"
   ]
  },
  {
   "cell_type": "code",
   "execution_count": 28,
   "metadata": {},
   "outputs": [],
   "source": [
    "#random forest\n",
    "from sklearn.ensemble import RandomForestRegressor"
   ]
  },
  {
   "cell_type": "code",
   "execution_count": 29,
   "metadata": {},
   "outputs": [],
   "source": [
    "#random forest\n",
    "rf = RandomForestRegressor(max_depth=5, random_state=10)\n"
   ]
  },
  {
   "cell_type": "code",
   "execution_count": 31,
   "metadata": {},
   "outputs": [
    {
     "data": {
      "text/plain": [
       "RandomForestRegressor(max_depth=5, random_state=10)"
      ]
     },
     "execution_count": 31,
     "metadata": {},
     "output_type": "execute_result"
    }
   ],
   "source": [
    "rf.fit(X_train2, y_train)"
   ]
  },
  {
   "cell_type": "code",
   "execution_count": 32,
   "metadata": {},
   "outputs": [],
   "source": [
    "y_pred = rf.predict(X_test2)\n"
   ]
  },
  {
   "cell_type": "code",
   "execution_count": 33,
   "metadata": {},
   "outputs": [
    {
     "data": {
      "text/plain": [
       "14.811487149567252"
      ]
     },
     "execution_count": 33,
     "metadata": {},
     "output_type": "execute_result"
    }
   ],
   "source": [
    "meanAbs = mean_absolute_error(y_test, y_pred)\n",
    "meanAbs"
   ]
  },
  {
   "cell_type": "code",
   "execution_count": 34,
   "metadata": {},
   "outputs": [
    {
     "data": {
      "text/plain": [
       "0.26990316242862034"
      ]
     },
     "execution_count": 34,
     "metadata": {},
     "output_type": "execute_result"
    }
   ],
   "source": [
    "r2 = r2_score(y_test, y_pred)\n",
    "r2"
   ]
  },
  {
   "cell_type": "code",
   "execution_count": 145,
   "metadata": {},
   "outputs": [
    {
     "data": {
      "image/png": "[encoded data removed]",
      "text/plain": [
       "<Figure size 864x432 with 1 Axes>"
      ]
     },
     "metadata": {
      "needs_background": "light"
     },
     "output_type": "display_data"
    }
   ],
   "source": [
    "## GRaficar resultados y predicciones\n",
    "#34719\n",
    "\n",
    "samples = 1000\n",
    "size= 1\n",
    "y1 = y_test.sample(n=samples, random_state=10)\n",
    "\n",
    "##convertir predicciones a df para poder hacer un sample \n",
    "y2 = pd.DataFrame(y_pred)\n",
    "y3 = y2.sample(n=samples,random_state=10)\n",
    "#len(y1)\n",
    "#y_dif = np.subtract(y1,y3)\n",
    "\n",
    "\n",
    "len(y_pred)\n",
    "len(y_test)\n",
    "x_axis = np.arange(1,samples+1)\n",
    "# y_pred[0]\n",
    "# y_test\n",
    "plt.figure(figsize=(12, 6))\n",
    "plt.scatter(x_axis, y1, s=size , label=\"Test\")\n",
    "plt.scatter(x_axis, y3, s=size, label=\"Pred\")\n",
    "plt.xlabel('# de registro')\n",
    "plt.ylabel('Edad')\n",
    "plt.legend()\n",
    "plt.show()"
   ]
  },
  {
   "cell_type": "code",
   "execution_count": null,
   "metadata": {},
   "outputs": [],
   "source": []
  }
 ],
 "metadata": {
  "interpreter": {
   "hash": "11938c6bc6919ae2720b4d5011047913343b08a43b18698fd82dedb0d4417594"
  },
  "kernelspec": {
   "display_name": "Python 3 (ipykernel)",
   "language": "python",
   "name": "python3"
  },
  "language_info": {
   "codemirror_mode": {
    "name": "ipython",
    "version": 3
   },
   "file_extension": ".py",
   "mimetype": "text/x-python",
   "name": "python",
   "nbconvert_exporter": "python",
   "pygments_lexer": "ipython3",
   "version": "3.9.2"
  }
 },
 "nbformat": 4,
 "nbformat_minor": 2
}
