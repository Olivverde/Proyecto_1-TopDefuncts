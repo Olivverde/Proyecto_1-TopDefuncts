{
 "cells": [
  {
   "cell_type": "code",
   "execution_count": 1,
   "metadata": {},
   "outputs": [],
   "source": [
    "import pandas as pd\n",
    "import numpy as np\n",
    "import matplotlib.pyplot as plt\n",
    "from sklearn import datasets\n",
    "from sklearn.model_selection import train_test_split\n",
    "from sklearn.tree import DecisionTreeRegressor\n",
    "from sklearn import tree\n",
    "from sklearn import metrics\n",
    "from sklearn.model_selection import cross_val_predict\n",
    "import seaborn as sb\n",
    "from sklearn.preprocessing import OneHotEncoder\n",
    "from sklearn.compose import make_column_transformer\n",
    "\n",
    "#import graphviz\n",
    "\n",
    "\n"
   ]
  },
  {
   "cell_type": "code",
   "execution_count": null,
   "metadata": {},
   "outputs": [],
   "source": [
    "df2013 =pd.read_spss('defunciones/2013-defunciones.sav')\n",
    "df2014 =pd.read_spss('defunciones/2014-defunciones.sav')\n",
    "df2015 =pd.read_spss('defunciones/2015-defunciones.sav')\n",
    "df2016 =pd.read_spss('defunciones/2016-defunciones.sav')\n",
    "df2017 =pd.read_spss('defunciones/2017-defunciones.sav')\n",
    "df2018 =pd.read_spss('defunciones/2018-defunciones.sav')\n",
    "df2019 =pd.read_spss('defunciones/2019-defunciones.sav')\n",
    "df2020 =pd.read_spss('defunciones/2020-defunciones.sav')\n",
    "\n",
    "df = df2013.append([df2014, df2015, df2016, \n",
    "                    df2017, df2018, df2019, \n",
    "                    df2020, ])\n"
   ]
  },
  {
   "cell_type": "markdown",
   "metadata": {},
   "source": []
  },
  {
   "cell_type": "code",
   "execution_count": 74,
   "metadata": {},
   "outputs": [
    {
     "name": "stdout",
     "output_type": "stream",
     "text": [
      "['Depocu' 'Mesocu' 'Edadif' 'Ecidif' 'Escodif' 'Asist' 'Ocur' 'Ciuodif']\n"
     ]
    }
   ],
   "source": [
    "#selección de variables\n",
    "df = df[['Depocu', 'Mesocu', 'Edadif', 'Ecidif', 'Escodif', 'Asist', 'Ocur', 'Ciuodif']]\n",
    "print(df.columns.values)"
   ]
  },
  {
   "cell_type": "code",
   "execution_count": 75,
   "metadata": {},
   "outputs": [
    {
     "name": "stdout",
     "output_type": "stream",
     "text": [
      "['Depocu' 'Mesocu' 'Edadif' 'Ecidif' 'Escodif' 'Asist' 'Ocur' 'Ciuodif']\n"
     ]
    }
   ],
   "source": [
    "df.drop(df[df['Edadif'] == 'Ignorado'].index, inplace = True)\n",
    "pd.to_numeric(['Edadif'])\n",
    "df.drop(df[df['Edadif'] < 15].index, inplace = True)\n",
    "\n",
    "df.drop(df[df['Escodif'] == 'Ignorado'].index, inplace = True)\n",
    "df.drop(df[df['Asist'] == 'Ignorado'].index, inplace = True)\n",
    "df.drop(df[df['Ciuodif'] == 'Ignorado'].index, inplace = True)\n",
    "\n",
    "\n",
    "print(df.columns.values)"
   ]
  },
  {
   "cell_type": "code",
   "execution_count": 76,
   "metadata": {},
   "outputs": [
    {
     "data": {
      "text/plain": [
       "Ciuodif\n",
       "Agricultores y trabajadores calificados de explotaciones agropecuarias con destino al mercado                                1987\n",
       "Artesanos y operarios de las artes gráficas                                                                                   505\n",
       "Ayudantes de preparación de alimentos                                                                                           9\n",
       "Conductores de vehículos y operadores de equipos pesados móviles                                                             2974\n",
       "Directores administradores y comerciales                                                                                      103\n",
       "Directores ejecutivos, personal directivo de administración pública, miembros del poder ejecutivo y cuerpos legislativos       18\n",
       "Directores y gerentes de producción y operaciones                                                                               4\n",
       "Empleados contables y encargados del registro de materiales                                                                  1133\n",
       "Empleados en trato directo con el público                                                                                     145\n",
       "Ensambladores                                                                                                                   5\n",
       "Especialistas en organización de la administración publica y de empresas                                                      274\n",
       "Gerentes de hoteles, restaurantes, comercios y otros servicios                                                                 10\n",
       "Ignorado                                                                                                                        0\n",
       "Limpiadores y asistentes                                                                                                      254\n",
       "No especificado en otro grupo                                                                                               57891\n",
       "Oficiales de las fuerzas armadas                                                                                               14\n",
       "Oficiales y operarios de la construcción excluyendo electricistas                                                            3701\n",
       "Oficiales y operarios de la metalurgia, la construcción mecánica y afines                                                    1978\n",
       "Oficinistas                                                                                                                   482\n",
       "Operadores de instalaciones fijas y máquinas                                                                                  801\n",
       "Operarios y oficiales de procesamiento de alimentos, de la confección, ebanistas, otros artesanos y afines                   2060\n",
       "Otro personal de apoyo administrativo                                                                                          84\n",
       "Otros miembros de las fuerzas armadas                                                                                          27\n",
       "Peones agropecuarios, pesqueros y forestales                                                                                36219\n",
       "Peones de la minería, la construcción, la industria manufacturera y el transporte                                             474\n",
       "Personal de los servicios de protección                                                                                       632\n",
       "Profesionales de la enseñanza                                                                                                1757\n",
       "Profesionales de la salud                                                                                                     276\n",
       "Profesionales de las ciencias y de la ingeniería                                                                              300\n",
       "Profesionales de las ciencias y la ingeniería de nivel medio                                                                  469\n",
       "Profesionales de nivel medio de la salud                                                                                      426\n",
       "Profesionales de nivel medio de servicios jurídicos, sociales, culturales y afines                                            602\n",
       "Profesionales de nivel medio en operaciones financieras y administrativas                                                     276\n",
       "Profesionales de tecnología de la información y las comunicaciones                                                             16\n",
       "Profesionales en derecho, en ciencias sociales y culturales                                                                   952\n",
       "Recolectores de desechos y otras ocupaciones elementales                                                                      275\n",
       "Trabajadores de los cuidados personales                                                                                        93\n",
       "Trabajadores de los servicios personales                                                                                      634\n",
       "Trabajadores especializados en electricidad y la elecrotecnología                                                             431\n",
       "Trabajadores forestales calificados, pescadores y cazadores                                                                    85\n",
       "Técnicos de la tecnología de la información y las comunicaciones                                                              294\n",
       "Vendedores                                                                                                                   6847\n",
       "Vendedores ambulantes de servicios y afines                                                                                    72\n",
       "dtype: int64"
      ]
     },
     "execution_count": 76,
     "metadata": {},
     "output_type": "execute_result"
    }
   ],
   "source": [
    "df.groupby('Ciuodif').size()\n",
    "\n",
    "#transformar las categoricas\n",
    "transformer = make_column_transformer(\n",
    "    (OneHotEncoder(), ['Depocu', 'Mesocu', 'Ecidif', 'Escodif', 'Asist', 'Ocur', 'Ciuodif']),\n",
    "    remainder='passthrough')\n",
    "\n",
    "transformed = transformer.fit_transform(df)\n",
    "df = pd.DataFrame(transformed, columns=transformer.get_feature_names())"
   ]
  },
  {
   "cell_type": "code",
   "execution_count": 77,
   "metadata": {},
   "outputs": [
    {
     "data": {
      "text/plain": [
       "Depocu     category\n",
       "Mesocu     category\n",
       "Edadif       object\n",
       "Ecidif     category\n",
       "Escodif    category\n",
       "Asist      category\n",
       "Ocur       category\n",
       "Ciuodif    category\n",
       "dtype: object"
      ]
     },
     "execution_count": 77,
     "metadata": {},
     "output_type": "execute_result"
    }
   ],
   "source": [
    "df.dtypes"
   ]
  },
  {
   "cell_type": "code",
   "execution_count": 78,
   "metadata": {},
   "outputs": [],
   "source": [
    "from sklearn.preprocessing import OrdinalEncoder\n",
    "from numpy import asarray"
   ]
  },
  {
   "cell_type": "code",
   "execution_count": 79,
   "metadata": {},
   "outputs": [
    {
     "data": {
      "text/plain": [
       "7296      Totonicapán\n",
       "7299      Totonicapán\n",
       "7300      Totonicapán\n",
       "7303      Totonicapán\n",
       "7307      Totonicapán\n",
       "             ...     \n",
       "95654          Quiché\n",
       "95655    Alta Verapaz\n",
       "95656          Izabal\n",
       "95657          Zacapa\n",
       "95658       Guatemala\n",
       "Name: Depocu, Length: 125589, dtype: category\n",
       "Categories (22, object): ['Alta Verapaz', 'Baja Verapaz', 'Chimaltenango', 'Chiquimula', ..., 'Sololá', 'Suchitepequez', 'Totonicapán', 'Zacapa']"
      ]
     },
     "execution_count": 79,
     "metadata": {},
     "output_type": "execute_result"
    }
   ],
   "source": [
    "# data = asarray([['red'], ['green'], ['blue']])\n",
    "\n",
    "df['Depocu']"
   ]
  },
  {
   "cell_type": "code",
   "execution_count": 90,
   "metadata": {},
   "outputs": [],
   "source": [
    "X = df[:, :-1]\n",
    "y = df[:,-1]"
   ]
  },
  {
   "cell_type": "code",
   "execution_count": 91,
   "metadata": {},
   "outputs": [],
   "source": [
    "X = X.astype(str)"
   ]
  },
  {
   "cell_type": "code",
   "execution_count": 92,
   "metadata": {},
   "outputs": [],
   "source": [
    "y = y.reshape((len(y), 1))"
   ]
  },
  {
   "cell_type": "code",
   "execution_count": 93,
   "metadata": {},
   "outputs": [
    {
     "name": "stdout",
     "output_type": "stream",
     "text": [
      "[['Domicilio']\n",
      " ['Domicilio']\n",
      " ['Ignorado']\n",
      " ...\n",
      " ['Domicilio']\n",
      " ['Hospital público']\n",
      " ['Domicilio']]\n"
     ]
    }
   ],
   "source": [
    "X_train, X_test, y_train, y_test = train_test_split(X, y, test_size=0.3, train_size=0.7,  random_state=42)\n",
    "\n",
    "print(y_train)"
   ]
  },
  {
   "cell_type": "code",
   "execution_count": 94,
   "metadata": {},
   "outputs": [
    {
     "name": "stdout",
     "output_type": "stream",
     "text": [
      "Train (87912, 6) (87912, 1)\n",
      "Test (37677, 6) (37677, 1)\n"
     ]
    }
   ],
   "source": [
    "print('Train', X_train.shape, y_train.shape)\n",
    "print('Test', X_test.shape, y_test.shape)"
   ]
  },
  {
   "cell_type": "code",
   "execution_count": 95,
   "metadata": {},
   "outputs": [
    {
     "ename": "ValueError",
     "evalue": "Found unknown categories ['110.0', '108.0'] in column 2 during transform",
     "output_type": "error",
     "traceback": [
      "\u001b[0;31m---------------------------------------------------------------------------\u001b[0m",
      "\u001b[0;31mValueError\u001b[0m                                Traceback (most recent call last)",
      "Input \u001b[0;32mIn [95]\u001b[0m, in \u001b[0;36m<module>\u001b[0;34m\u001b[0m\n\u001b[1;32m      2\u001b[0m oe\u001b[38;5;241m.\u001b[39mfit(X_train)\n\u001b[1;32m      3\u001b[0m X_train_enc \u001b[38;5;241m=\u001b[39m oe\u001b[38;5;241m.\u001b[39mtransform(X_train)\n\u001b[0;32m----> 4\u001b[0m X_test_enc \u001b[38;5;241m=\u001b[39m \u001b[43moe\u001b[49m\u001b[38;5;241;43m.\u001b[39;49m\u001b[43mtransform\u001b[49m\u001b[43m(\u001b[49m\u001b[43mX_test\u001b[49m\u001b[43m)\u001b[49m\n",
      "File \u001b[0;32m/Library/Frameworks/Python.framework/Versions/3.8/lib/python3.8/site-packages/sklearn/preprocessing/_encoders.py:930\u001b[0m, in \u001b[0;36mOrdinalEncoder.transform\u001b[0;34m(self, X)\u001b[0m\n\u001b[1;32m    916\u001b[0m \u001b[38;5;28;01mdef\u001b[39;00m \u001b[38;5;21mtransform\u001b[39m(\u001b[38;5;28mself\u001b[39m, X):\n\u001b[1;32m    917\u001b[0m     \u001b[38;5;124;03m\"\"\"\u001b[39;00m\n\u001b[1;32m    918\u001b[0m \u001b[38;5;124;03m    Transform X to ordinal codes.\u001b[39;00m\n\u001b[1;32m    919\u001b[0m \n\u001b[0;32m   (...)\u001b[0m\n\u001b[1;32m    928\u001b[0m \u001b[38;5;124;03m        Transformed input.\u001b[39;00m\n\u001b[1;32m    929\u001b[0m \u001b[38;5;124;03m    \"\"\"\u001b[39;00m\n\u001b[0;32m--> 930\u001b[0m     X_int, X_mask \u001b[38;5;241m=\u001b[39m \u001b[38;5;28;43mself\u001b[39;49m\u001b[38;5;241;43m.\u001b[39;49m\u001b[43m_transform\u001b[49m\u001b[43m(\u001b[49m\n\u001b[1;32m    931\u001b[0m \u001b[43m        \u001b[49m\u001b[43mX\u001b[49m\u001b[43m,\u001b[49m\u001b[43m \u001b[49m\u001b[43mhandle_unknown\u001b[49m\u001b[38;5;241;43m=\u001b[39;49m\u001b[38;5;28;43mself\u001b[39;49m\u001b[38;5;241;43m.\u001b[39;49m\u001b[43mhandle_unknown\u001b[49m\u001b[43m,\u001b[49m\u001b[43m \u001b[49m\u001b[43mforce_all_finite\u001b[49m\u001b[38;5;241;43m=\u001b[39;49m\u001b[38;5;124;43m\"\u001b[39;49m\u001b[38;5;124;43mallow-nan\u001b[39;49m\u001b[38;5;124;43m\"\u001b[39;49m\n\u001b[1;32m    932\u001b[0m \u001b[43m    \u001b[49m\u001b[43m)\u001b[49m\n\u001b[1;32m    933\u001b[0m     X_trans \u001b[38;5;241m=\u001b[39m X_int\u001b[38;5;241m.\u001b[39mastype(\u001b[38;5;28mself\u001b[39m\u001b[38;5;241m.\u001b[39mdtype, copy\u001b[38;5;241m=\u001b[39m\u001b[38;5;28;01mFalse\u001b[39;00m)\n\u001b[1;32m    935\u001b[0m     \u001b[38;5;28;01mfor\u001b[39;00m cat_idx, missing_idx \u001b[38;5;129;01min\u001b[39;00m \u001b[38;5;28mself\u001b[39m\u001b[38;5;241m.\u001b[39m_missing_indices\u001b[38;5;241m.\u001b[39mitems():\n",
      "File \u001b[0;32m/Library/Frameworks/Python.framework/Versions/3.8/lib/python3.8/site-packages/sklearn/preprocessing/_encoders.py:142\u001b[0m, in \u001b[0;36m_BaseEncoder._transform\u001b[0;34m(self, X, handle_unknown, force_all_finite, warn_on_unknown)\u001b[0m\n\u001b[1;32m    137\u001b[0m \u001b[38;5;28;01mif\u001b[39;00m handle_unknown \u001b[38;5;241m==\u001b[39m \u001b[38;5;124m\"\u001b[39m\u001b[38;5;124merror\u001b[39m\u001b[38;5;124m\"\u001b[39m:\n\u001b[1;32m    138\u001b[0m     msg \u001b[38;5;241m=\u001b[39m (\n\u001b[1;32m    139\u001b[0m         \u001b[38;5;124m\"\u001b[39m\u001b[38;5;124mFound unknown categories \u001b[39m\u001b[38;5;132;01m{0}\u001b[39;00m\u001b[38;5;124m in column \u001b[39m\u001b[38;5;132;01m{1}\u001b[39;00m\u001b[38;5;124m\"\u001b[39m\n\u001b[1;32m    140\u001b[0m         \u001b[38;5;124m\"\u001b[39m\u001b[38;5;124m during transform\u001b[39m\u001b[38;5;124m\"\u001b[39m\u001b[38;5;241m.\u001b[39mformat(diff, i)\n\u001b[1;32m    141\u001b[0m     )\n\u001b[0;32m--> 142\u001b[0m     \u001b[38;5;28;01mraise\u001b[39;00m \u001b[38;5;167;01mValueError\u001b[39;00m(msg)\n\u001b[1;32m    143\u001b[0m \u001b[38;5;28;01melse\u001b[39;00m:\n\u001b[1;32m    144\u001b[0m     \u001b[38;5;28;01mif\u001b[39;00m warn_on_unknown:\n",
      "\u001b[0;31mValueError\u001b[0m: Found unknown categories ['110.0', '108.0'] in column 2 during transform"
     ]
    }
   ],
   "source": [
    "oe = OrdinalEncoder()\n",
    "oe.fit(X_train)\n",
    "X_train_enc = oe.transform(X_train)\n",
    "X_test_enc = oe.transform(X_test)"
   ]
  },
  {
   "cell_type": "code",
   "execution_count": 81,
   "metadata": {},
   "outputs": [],
   "source": [
    "# df16To20 = df16To20.fillna(0)\n",
    "y = df16To20.pop('Ciuodif')\n",
    "X = df16To20[['Depocu', 'Mesocu', 'Edadif', 'Ecidif', 'Escodif', 'Asist', 'Ocur']]"
   ]
  },
  {
   "cell_type": "code",
   "execution_count": 65,
   "metadata": {},
   "outputs": [],
   "source": [
    "\n",
    "# format all fields as string\n",
    "X = X.astype(str)\n",
    "# # reshape target to be a 2d array\n",
    "# y = y.reshape((len(y), 1))\n",
    "\n"
   ]
  },
  {
   "cell_type": "code",
   "execution_count": 68,
   "metadata": {},
   "outputs": [
    {
     "name": "stdout",
     "output_type": "stream",
     "text": [
      "59290         Peones agropecuarios, pesqueros y forestales\n",
      "51084         Peones agropecuarios, pesqueros y forestales\n",
      "11896         Peones agropecuarios, pesqueros y forestales\n",
      "79744    Técnicos de la tecnología de la información y ...\n",
      "56672         Peones agropecuarios, pesqueros y forestales\n",
      "                               ...                        \n",
      "89144                        No especificado en otro grupo\n",
      "71191                        No especificado en otro grupo\n",
      "9314                         No especificado en otro grupo\n",
      "30946                        No especificado en otro grupo\n",
      "91495                        No especificado en otro grupo\n",
      "Name: Ciuodif, Length: 87912, dtype: category\n",
      "Categories (43, object): ['Agricultores y trabajadores calificados de ex..., 'Artesanos y operarios de las artes gráficas', 'Ayudantes de preparación de alimentos', 'Conductores de vehículos y operadores de equi..., ..., 'Trabajadores forestales calificados, pescador..., 'Técnicos de la tecnología de la información y..., 'Vendedores', 'Vendedores ambulantes de servicios y afines']\n"
     ]
    }
   ],
   "source": [
    "X_train, X_test, y_train, y_test = train_test_split(X, y, test_size=0.3, train_size=0.7,  random_state=42)\n",
    "\n",
    "print(y_train)"
   ]
  },
  {
   "cell_type": "code",
   "execution_count": 69,
   "metadata": {},
   "outputs": [
    {
     "name": "stdout",
     "output_type": "stream",
     "text": [
      "Train (87912, 7) (87912,)\n",
      "Test (37677, 7) (37677,)\n"
     ]
    }
   ],
   "source": [
    "print('Train', X_train.shape, y_train.shape)\n",
    "print('Test', X_test.shape, y_test.shape)"
   ]
  }
 ],
 "metadata": {
  "interpreter": {
   "hash": "11938c6bc6919ae2720b4d5011047913343b08a43b18698fd82dedb0d4417594"
  },
  "kernelspec": {
   "display_name": "Python 3.9.4 64-bit",
   "language": "python",
   "name": "python3"
  },
  "language_info": {
   "codemirror_mode": {
    "name": "ipython",
    "version": 3
   },
   "file_extension": ".py",
   "mimetype": "text/x-python",
   "name": "python",
   "nbconvert_exporter": "python",
   "pygments_lexer": "ipython3",
   "version": "3.9.4"
  },
  "orig_nbformat": 4
 },
 "nbformat": 4,
 "nbformat_minor": 2
}
