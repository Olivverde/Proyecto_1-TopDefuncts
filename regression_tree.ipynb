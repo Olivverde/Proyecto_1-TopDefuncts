{
 "cells": [
  {
   "cell_type": "code",
   "execution_count": 1,
   "metadata": {},
   "outputs": [],
   "source": [
    "import pandas as pd\n",
    "import numpy as np\n",
    "import matplotlib.pyplot as plt\n",
    "from sklearn import datasets\n",
    "from sklearn.model_selection import train_test_split\n",
    "from sklearn.tree import DecisionTreeRegressor\n",
    "from sklearn import tree\n",
    "from sklearn import metrics\n",
    "from sklearn.model_selection import cross_val_predict\n",
    "import seaborn as sb\n",
    "from sklearn.preprocessing import OneHotEncoder\n",
    "from sklearn.compose import make_column_transformer\n",
    "\n",
    "#import graphviz\n",
    "\n",
    "\n"
   ]
  },
  {
   "cell_type": "code",
   "execution_count": 2,
   "metadata": {},
   "outputs": [
    {
     "name": "stdout",
     "output_type": "stream",
     "text": [
      "Requirement already satisfied: category_encoders in /Library/Frameworks/Python.framework/Versions/3.8/lib/python3.8/site-packages (2.4.1)\n",
      "Requirement already satisfied: numpy>=1.14.0 in /Library/Frameworks/Python.framework/Versions/3.8/lib/python3.8/site-packages (from category_encoders) (1.20.3)\n",
      "Requirement already satisfied: patsy>=0.5.1 in /Library/Frameworks/Python.framework/Versions/3.8/lib/python3.8/site-packages (from category_encoders) (0.5.2)\n",
      "Requirement already satisfied: pandas>=0.21.1 in /Library/Frameworks/Python.framework/Versions/3.8/lib/python3.8/site-packages (from category_encoders) (1.3.3)\n",
      "Requirement already satisfied: scikit-learn>=0.20.0 in /Library/Frameworks/Python.framework/Versions/3.8/lib/python3.8/site-packages (from category_encoders) (1.0.2)\n",
      "Requirement already satisfied: statsmodels>=0.9.0 in /Library/Frameworks/Python.framework/Versions/3.8/lib/python3.8/site-packages (from category_encoders) (0.13.1)\n",
      "Requirement already satisfied: scipy>=1.0.0 in /Library/Frameworks/Python.framework/Versions/3.8/lib/python3.8/site-packages (from category_encoders) (1.7.1)\n",
      "Requirement already satisfied: python-dateutil>=2.7.3 in /Library/Frameworks/Python.framework/Versions/3.8/lib/python3.8/site-packages (from pandas>=0.21.1->category_encoders) (2.8.2)\n",
      "Requirement already satisfied: pytz>=2017.3 in /Library/Frameworks/Python.framework/Versions/3.8/lib/python3.8/site-packages (from pandas>=0.21.1->category_encoders) (2021.1)\n",
      "Requirement already satisfied: six in /Library/Frameworks/Python.framework/Versions/3.8/lib/python3.8/site-packages (from patsy>=0.5.1->category_encoders) (1.16.0)\n",
      "Requirement already satisfied: joblib>=0.11 in /Library/Frameworks/Python.framework/Versions/3.8/lib/python3.8/site-packages (from scikit-learn>=0.20.0->category_encoders) (1.1.0)\n",
      "Requirement already satisfied: threadpoolctl>=2.0.0 in /Library/Frameworks/Python.framework/Versions/3.8/lib/python3.8/site-packages (from scikit-learn>=0.20.0->category_encoders) (3.1.0)\n",
      "\u001b[33mWARNING: You are using pip version 22.0.4; however, version 22.1 is available.\n",
      "You should consider upgrading via the '/Library/Frameworks/Python.framework/Versions/3.8/bin/python3 -m pip install --upgrade pip' command.\u001b[0m\u001b[33m\n",
      "\u001b[0m"
     ]
    }
   ],
   "source": [
    "!pip install category_encoders"
   ]
  },
  {
   "cell_type": "code",
   "execution_count": 3,
   "metadata": {},
   "outputs": [],
   "source": [
    "import category_encoders as ce"
   ]
  },
  {
   "cell_type": "code",
   "execution_count": 4,
   "metadata": {},
   "outputs": [],
   "source": [
    "df2013 =pd.read_spss('defunciones/2013-defunciones.sav')\n",
    "df2014 =pd.read_spss('defunciones/2014-defunciones.sav')\n",
    "df2015 =pd.read_spss('defunciones/2015-defunciones.sav')\n",
    "df2016 =pd.read_spss('defunciones/2016-defunciones.sav')\n",
    "df2017 =pd.read_spss('defunciones/2017-defunciones.sav')\n",
    "df2018 =pd.read_spss('defunciones/2018-defunciones.sav')\n",
    "df2019 =pd.read_spss('defunciones/2019-defunciones.sav')\n",
    "df2020 =pd.read_spss('defunciones/2020-defunciones.sav')\n",
    "\n",
    "df = df2013.append([df2014, df2015, df2016, \n",
    "                    df2017, df2018, df2019, \n",
    "                    df2020, ])\n"
   ]
  },
  {
   "cell_type": "markdown",
   "metadata": {},
   "source": []
  },
  {
   "cell_type": "code",
   "execution_count": 5,
   "metadata": {},
   "outputs": [
    {
     "name": "stdout",
     "output_type": "stream",
     "text": [
      "['Depocu' 'Mesocu' 'Edadif' 'Ecidif' 'Escodif' 'Asist' 'Ocur' 'Ciuodif']\n"
     ]
    }
   ],
   "source": [
    "#selección de variables\n",
    "df = df[['Depocu', 'Mesocu', 'Edadif', 'Ecidif', 'Escodif', 'Asist', 'Ocur', 'Ciuodif']]\n",
    "print(df.columns.values)"
   ]
  },
  {
   "cell_type": "code",
   "execution_count": 6,
   "metadata": {},
   "outputs": [
    {
     "name": "stdout",
     "output_type": "stream",
     "text": [
      "['Depocu' 'Mesocu' 'Edadif' 'Ecidif' 'Escodif' 'Asist' 'Ocur' 'Ciuodif']\n"
     ]
    }
   ],
   "source": [
    "df.drop(df[df['Edadif'] == 'Ignorado'].index, inplace = True)\n",
    "\n",
    "df.drop(df[df['Edadif'] < 15].index, inplace = True)\n",
    "\n",
    "df.drop(df[df['Escodif'] == 'Ignorado'].index, inplace = True)\n",
    "df.drop(df[df['Asist'] == 'Ignorado'].index, inplace = True)\n",
    "df.drop(df[df['Ciuodif'] == 'Ignorado'].index, inplace = True)\n",
    "\n",
    "pd.to_numeric(df['Edadif'])\n",
    "\n",
    "print(df.columns.values)"
   ]
  },
  {
   "cell_type": "code",
   "execution_count": 7,
   "metadata": {},
   "outputs": [],
   "source": [
    "encoder = ce.OneHotEncoder(use_cat_names=True)"
   ]
  },
  {
   "cell_type": "code",
   "execution_count": 8,
   "metadata": {},
   "outputs": [],
   "source": [
    "X = df[['Depocu', 'Mesocu', 'Ecidif', 'Escodif', 'Asist', 'Ocur', 'Ciuodif']]\n",
    "y = df['Edadif']"
   ]
  },
  {
   "cell_type": "code",
   "execution_count": 9,
   "metadata": {},
   "outputs": [],
   "source": [
    "X_train, X_test, y_train, y_test = train_test_split(X, y, test_size=0.3, train_size=0.7,  random_state=42)"
   ]
  },
  {
   "cell_type": "code",
   "execution_count": 12,
   "metadata": {},
   "outputs": [
    {
     "data": {
      "text/plain": [
       "41608    67.0\n",
       "90290    90.0\n",
       "28214    79.0\n",
       "25792    18.0\n",
       "37531    58.0\n",
       "Name: Edadif, dtype: object"
      ]
     },
     "execution_count": 12,
     "metadata": {},
     "output_type": "execute_result"
    }
   ],
   "source": [
    "y_train.head()"
   ]
  },
  {
   "cell_type": "code",
   "execution_count": 13,
   "metadata": {},
   "outputs": [],
   "source": [
    "X_train2 = encoder.fit_transform(X_train)"
   ]
  },
  {
   "cell_type": "code",
   "execution_count": 14,
   "metadata": {},
   "outputs": [],
   "source": [
    "X_test2 = encoder.transform(X_test)"
   ]
  },
  {
   "cell_type": "code",
   "execution_count": 15,
   "metadata": {},
   "outputs": [
    {
     "data": {
      "text/html": [
       "<div>\n",
       "<style scoped>\n",
       "    .dataframe tbody tr th:only-of-type {\n",
       "        vertical-align: middle;\n",
       "    }\n",
       "\n",
       "    .dataframe tbody tr th {\n",
       "        vertical-align: top;\n",
       "    }\n",
       "\n",
       "    .dataframe thead th {\n",
       "        text-align: right;\n",
       "    }\n",
       "</style>\n",
       "<table border=\"1\" class=\"dataframe\">\n",
       "  <thead>\n",
       "    <tr style=\"text-align: right;\">\n",
       "      <th></th>\n",
       "      <th>Depocu_Alta Verapaz</th>\n",
       "      <th>Depocu_Jutiapa</th>\n",
       "      <th>Depocu_Guatemala</th>\n",
       "      <th>Depocu_Chiquimula</th>\n",
       "      <th>Depocu_Jalapa</th>\n",
       "      <th>Depocu_Quetzaltenango</th>\n",
       "      <th>Depocu_Baja Verapaz</th>\n",
       "      <th>Depocu_Suchitepequez</th>\n",
       "      <th>Depocu_Zacapa</th>\n",
       "      <th>Depocu_Escuintla</th>\n",
       "      <th>...</th>\n",
       "      <th>Ciuodif_Empleados en trato directo con el público</th>\n",
       "      <th>Ciuodif_Trabajadores de los cuidados personales</th>\n",
       "      <th>Ciuodif_Vendedores ambulantes de servicios y afines</th>\n",
       "      <th>Ciuodif_Trabajadores forestales calificados, pescadores y cazadores</th>\n",
       "      <th>Ciuodif_Ensambladores</th>\n",
       "      <th>Ciuodif_Profesionales de tecnología de la información y las comunicaciones</th>\n",
       "      <th>Ciuodif_Oficiales de las fuerzas armadas</th>\n",
       "      <th>Ciuodif_Gerentes de hoteles, restaurantes, comercios y otros servicios</th>\n",
       "      <th>Ciuodif_Ayudantes de preparación de alimentos</th>\n",
       "      <th>Ciuodif_Directores y gerentes de producción y operaciones</th>\n",
       "    </tr>\n",
       "  </thead>\n",
       "  <tbody>\n",
       "    <tr>\n",
       "      <th>41608</th>\n",
       "      <td>1</td>\n",
       "      <td>0</td>\n",
       "      <td>0</td>\n",
       "      <td>0</td>\n",
       "      <td>0</td>\n",
       "      <td>0</td>\n",
       "      <td>0</td>\n",
       "      <td>0</td>\n",
       "      <td>0</td>\n",
       "      <td>0</td>\n",
       "      <td>...</td>\n",
       "      <td>0</td>\n",
       "      <td>0</td>\n",
       "      <td>0</td>\n",
       "      <td>0</td>\n",
       "      <td>0</td>\n",
       "      <td>0</td>\n",
       "      <td>0</td>\n",
       "      <td>0</td>\n",
       "      <td>0</td>\n",
       "      <td>0</td>\n",
       "    </tr>\n",
       "    <tr>\n",
       "      <th>90290</th>\n",
       "      <td>0</td>\n",
       "      <td>1</td>\n",
       "      <td>0</td>\n",
       "      <td>0</td>\n",
       "      <td>0</td>\n",
       "      <td>0</td>\n",
       "      <td>0</td>\n",
       "      <td>0</td>\n",
       "      <td>0</td>\n",
       "      <td>0</td>\n",
       "      <td>...</td>\n",
       "      <td>0</td>\n",
       "      <td>0</td>\n",
       "      <td>0</td>\n",
       "      <td>0</td>\n",
       "      <td>0</td>\n",
       "      <td>0</td>\n",
       "      <td>0</td>\n",
       "      <td>0</td>\n",
       "      <td>0</td>\n",
       "      <td>0</td>\n",
       "    </tr>\n",
       "    <tr>\n",
       "      <th>28214</th>\n",
       "      <td>0</td>\n",
       "      <td>0</td>\n",
       "      <td>1</td>\n",
       "      <td>0</td>\n",
       "      <td>0</td>\n",
       "      <td>0</td>\n",
       "      <td>0</td>\n",
       "      <td>0</td>\n",
       "      <td>0</td>\n",
       "      <td>0</td>\n",
       "      <td>...</td>\n",
       "      <td>0</td>\n",
       "      <td>0</td>\n",
       "      <td>0</td>\n",
       "      <td>0</td>\n",
       "      <td>0</td>\n",
       "      <td>0</td>\n",
       "      <td>0</td>\n",
       "      <td>0</td>\n",
       "      <td>0</td>\n",
       "      <td>0</td>\n",
       "    </tr>\n",
       "    <tr>\n",
       "      <th>25792</th>\n",
       "      <td>0</td>\n",
       "      <td>0</td>\n",
       "      <td>1</td>\n",
       "      <td>0</td>\n",
       "      <td>0</td>\n",
       "      <td>0</td>\n",
       "      <td>0</td>\n",
       "      <td>0</td>\n",
       "      <td>0</td>\n",
       "      <td>0</td>\n",
       "      <td>...</td>\n",
       "      <td>0</td>\n",
       "      <td>0</td>\n",
       "      <td>0</td>\n",
       "      <td>0</td>\n",
       "      <td>0</td>\n",
       "      <td>0</td>\n",
       "      <td>0</td>\n",
       "      <td>0</td>\n",
       "      <td>0</td>\n",
       "      <td>0</td>\n",
       "    </tr>\n",
       "    <tr>\n",
       "      <th>37531</th>\n",
       "      <td>0</td>\n",
       "      <td>0</td>\n",
       "      <td>1</td>\n",
       "      <td>0</td>\n",
       "      <td>0</td>\n",
       "      <td>0</td>\n",
       "      <td>0</td>\n",
       "      <td>0</td>\n",
       "      <td>0</td>\n",
       "      <td>0</td>\n",
       "      <td>...</td>\n",
       "      <td>0</td>\n",
       "      <td>0</td>\n",
       "      <td>0</td>\n",
       "      <td>0</td>\n",
       "      <td>0</td>\n",
       "      <td>0</td>\n",
       "      <td>0</td>\n",
       "      <td>0</td>\n",
       "      <td>0</td>\n",
       "      <td>0</td>\n",
       "    </tr>\n",
       "  </tbody>\n",
       "</table>\n",
       "<p>5 rows × 108 columns</p>\n",
       "</div>"
      ],
      "text/plain": [
       "       Depocu_Alta Verapaz  Depocu_Jutiapa  Depocu_Guatemala  \\\n",
       "41608                    1               0                 0   \n",
       "90290                    0               1                 0   \n",
       "28214                    0               0                 1   \n",
       "25792                    0               0                 1   \n",
       "37531                    0               0                 1   \n",
       "\n",
       "       Depocu_Chiquimula  Depocu_Jalapa  Depocu_Quetzaltenango  \\\n",
       "41608                  0              0                      0   \n",
       "90290                  0              0                      0   \n",
       "28214                  0              0                      0   \n",
       "25792                  0              0                      0   \n",
       "37531                  0              0                      0   \n",
       "\n",
       "       Depocu_Baja Verapaz  Depocu_Suchitepequez  Depocu_Zacapa  \\\n",
       "41608                    0                     0              0   \n",
       "90290                    0                     0              0   \n",
       "28214                    0                     0              0   \n",
       "25792                    0                     0              0   \n",
       "37531                    0                     0              0   \n",
       "\n",
       "       Depocu_Escuintla  ...  \\\n",
       "41608                 0  ...   \n",
       "90290                 0  ...   \n",
       "28214                 0  ...   \n",
       "25792                 0  ...   \n",
       "37531                 0  ...   \n",
       "\n",
       "       Ciuodif_Empleados en trato directo con el público  \\\n",
       "41608                                                  0   \n",
       "90290                                                  0   \n",
       "28214                                                  0   \n",
       "25792                                                  0   \n",
       "37531                                                  0   \n",
       "\n",
       "       Ciuodif_Trabajadores de los cuidados personales  \\\n",
       "41608                                                0   \n",
       "90290                                                0   \n",
       "28214                                                0   \n",
       "25792                                                0   \n",
       "37531                                                0   \n",
       "\n",
       "       Ciuodif_Vendedores ambulantes de servicios y afines  \\\n",
       "41608                                                  0     \n",
       "90290                                                  0     \n",
       "28214                                                  0     \n",
       "25792                                                  0     \n",
       "37531                                                  0     \n",
       "\n",
       "       Ciuodif_Trabajadores forestales calificados, pescadores y cazadores  \\\n",
       "41608                                                  0                     \n",
       "90290                                                  0                     \n",
       "28214                                                  0                     \n",
       "25792                                                  0                     \n",
       "37531                                                  0                     \n",
       "\n",
       "       Ciuodif_Ensambladores  \\\n",
       "41608                      0   \n",
       "90290                      0   \n",
       "28214                      0   \n",
       "25792                      0   \n",
       "37531                      0   \n",
       "\n",
       "       Ciuodif_Profesionales de tecnología de la información y las comunicaciones  \\\n",
       "41608                                                  0                            \n",
       "90290                                                  0                            \n",
       "28214                                                  0                            \n",
       "25792                                                  0                            \n",
       "37531                                                  0                            \n",
       "\n",
       "       Ciuodif_Oficiales de las fuerzas armadas  \\\n",
       "41608                                         0   \n",
       "90290                                         0   \n",
       "28214                                         0   \n",
       "25792                                         0   \n",
       "37531                                         0   \n",
       "\n",
       "       Ciuodif_Gerentes de hoteles, restaurantes, comercios y otros servicios  \\\n",
       "41608                                                  0                        \n",
       "90290                                                  0                        \n",
       "28214                                                  0                        \n",
       "25792                                                  0                        \n",
       "37531                                                  0                        \n",
       "\n",
       "       Ciuodif_Ayudantes de preparación de alimentos  \\\n",
       "41608                                              0   \n",
       "90290                                              0   \n",
       "28214                                              0   \n",
       "25792                                              0   \n",
       "37531                                              0   \n",
       "\n",
       "       Ciuodif_Directores y gerentes de producción y operaciones  \n",
       "41608                                                  0          \n",
       "90290                                                  0          \n",
       "28214                                                  0          \n",
       "25792                                                  0          \n",
       "37531                                                  0          \n",
       "\n",
       "[5 rows x 108 columns]"
      ]
     },
     "execution_count": 15,
     "metadata": {},
     "output_type": "execute_result"
    }
   ],
   "source": [
    "X_train2.head()"
   ]
  },
  {
   "cell_type": "code",
   "execution_count": 18,
   "metadata": {},
   "outputs": [],
   "source": [
    "from sklearn.tree import DecisionTreeRegressor"
   ]
  },
  {
   "cell_type": "code",
   "execution_count": 19,
   "metadata": {},
   "outputs": [],
   "source": [
    "dt = DecisionTreeRegressor(random_state=42)"
   ]
  },
  {
   "cell_type": "code",
   "execution_count": 24,
   "metadata": {},
   "outputs": [
    {
     "data": {
      "text/plain": [
       "DecisionTreeRegressor(random_state=42)"
      ]
     },
     "execution_count": 24,
     "metadata": {},
     "output_type": "execute_result"
    }
   ],
   "source": [
    "dt.fit(X_train2, y_train)"
   ]
  },
  {
   "cell_type": "code",
   "execution_count": 25,
   "metadata": {},
   "outputs": [],
   "source": [
    "y_pred_dt = dt.predict(X_test2)"
   ]
  },
  {
   "cell_type": "code",
   "execution_count": 27,
   "metadata": {},
   "outputs": [
    {
     "data": {
      "text/plain": [
       "array([71.8       , 73.5       , 76.        , 56.58461538, 76.95      ])"
      ]
     },
     "execution_count": 27,
     "metadata": {},
     "output_type": "execute_result"
    }
   ],
   "source": [
    "y_pred_dt[:5]"
   ]
  },
  {
   "cell_type": "code",
   "execution_count": 28,
   "metadata": {},
   "outputs": [],
   "source": [
    "#metricas\n",
    "\n",
    "from sklearn.metrics import mean_absolute_error, r2_score"
   ]
  },
  {
   "cell_type": "code",
   "execution_count": 29,
   "metadata": {},
   "outputs": [],
   "source": [
    "mea = mean_absolute_error(y_test, y_pred_dt)"
   ]
  },
  {
   "cell_type": "code",
   "execution_count": 30,
   "metadata": {},
   "outputs": [
    {
     "data": {
      "text/plain": [
       "16.234869969608265"
      ]
     },
     "execution_count": 30,
     "metadata": {},
     "output_type": "execute_result"
    }
   ],
   "source": [
    "mea"
   ]
  },
  {
   "cell_type": "code",
   "execution_count": 31,
   "metadata": {},
   "outputs": [
    {
     "data": {
      "text/plain": [
       "0.05303674266210079"
      ]
     },
     "execution_count": 31,
     "metadata": {},
     "output_type": "execute_result"
    }
   ],
   "source": [
    "r2 = r2_score(y_test, y_pred_dt)\n",
    "r2"
   ]
  }
 ],
 "metadata": {
  "interpreter": {
   "hash": "11938c6bc6919ae2720b4d5011047913343b08a43b18698fd82dedb0d4417594"
  },
  "kernelspec": {
   "display_name": "Python 3.9.4 64-bit",
   "language": "python",
   "name": "python3"
  },
  "language_info": {
   "codemirror_mode": {
    "name": "ipython",
    "version": 3
   },
   "file_extension": ".py",
   "mimetype": "text/x-python",
   "name": "python",
   "nbconvert_exporter": "python",
   "pygments_lexer": "ipython3",
   "version": "3.8.5"
  },
  "orig_nbformat": 4
 },
 "nbformat": 4,
 "nbformat_minor": 2
}
